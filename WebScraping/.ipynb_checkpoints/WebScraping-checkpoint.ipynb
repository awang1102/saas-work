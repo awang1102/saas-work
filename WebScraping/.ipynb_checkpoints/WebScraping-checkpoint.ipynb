{
 "cells": [
  {
   "cell_type": "markdown",
   "metadata": {},
   "source": [
    "# Web scraping of Amazon products"
   ]
  },
  {
   "cell_type": "markdown",
   "metadata": {},
   "source": [
    "We use the Python library selenium for web crawling and scraping."
   ]
  },
  {
   "cell_type": "code",
   "execution_count": 1,
   "metadata": {},
   "outputs": [
    {
     "name": "stdout",
     "output_type": "stream",
     "text": [
      "Requirement already satisfied: selenium in /usr/local/Cellar/jupyterlab/3.0.1/libexec/lib/python3.9/site-packages (3.141.0)\n",
      "Requirement already satisfied: urllib3 in /usr/local/Cellar/jupyterlab/3.0.1/libexec/lib/python3.9/site-packages (from selenium) (1.26.2)\n",
      "\u001b[33mWARNING: You are using pip version 20.3.1; however, version 21.0.1 is available.\n",
      "You should consider upgrading via the '/usr/local/Cellar/jupyterlab/3.0.1/libexec/bin/python -m pip install --upgrade pip' command.\u001b[0m\n"
     ]
    }
   ],
   "source": [
    "import sys\n",
    "!{sys.executable} -m pip install selenium"
   ]
  },
  {
   "cell_type": "code",
   "execution_count": 2,
   "metadata": {},
   "outputs": [],
   "source": [
    "from selenium import webdriver\n",
    "from PIL import Image\n",
    "import requests\n",
    "import urllib.request\n",
    "import os"
   ]
  },
  {
   "cell_type": "markdown",
   "metadata": {},
   "source": [
    "We initialize a new web driver and feed it the page that we want to start scraping from. In our case, we scrape the names, prices, and ratings of GPU listings from the first ten pages of Amazon."
   ]
  },
  {
   "cell_type": "code",
   "execution_count": 4,
   "metadata": {},
   "outputs": [],
   "source": [
    "driver = webdriver.Chrome(\"/Users/awang/Desktop/saas-work/WebScraping/chromedriver\")\n",
    "driver.get(\"https://www.amazon.com/s?k=gpu\")"
   ]
  },
  {
   "cell_type": "markdown",
   "metadata": {},
   "source": [
    "![title](amazon-gpus.png)"
   ]
  },
  {
   "cell_type": "markdown",
   "metadata": {},
   "source": [
    "We find the links to each product page by looking for the class html tag with description \"a-link-normal a-text-normal\" and we store these links in a list. We do this for the first ten pages of GPU listings."
   ]
  },
  {
   "cell_type": "code",
   "execution_count": 5,
   "metadata": {},
   "outputs": [],
   "source": [
    "elems = driver.find_elements_by_xpath('.//a[@class = \"a-link-normal a-text-normal\"]')\n",
    "product_links = []\n",
    "for elem in elems:\n",
    "    product_links.append(elem.get_attribute(\"href\"))\n",
    "    \n",
    "next_url = driver.find_elements_by_xpath('.//li[@class = \"a-last\"]//a')[0].get_attribute(\"href\")\n",
    "for _ in range(9):\n",
    "    driver.get(next_url)\n",
    "    curr_elems = driver.find_elements_by_xpath('.//a[@class = \"a-link-normal a-text-normal\"]')\n",
    "    for curr_elem in curr_elems:\n",
    "        product_links.append(curr_elem.get_attribute(\"href\"))\n",
    "    next_url = driver.find_elements_by_xpath('.//li[@class = \"a-last\"]//a')[0].get_attribute(\"href\")"
   ]
  },
  {
   "cell_type": "markdown",
   "metadata": {},
   "source": [
    "For each product page, we get the name, price, and rating of the product. To do this, we look for span html tags with descriptions that allow us to uniquely identify each attribute. We write these functions and run them for each page that we stored in our initial list. Some of the data will return null values because selenium oftens runs too quickly on each page and will miss html tags when they are actually there. We set them as null for now, but running multiple iterations and corroborating the data would lead to a complete dataset."
   ]
  },
  {
   "cell_type": "code",
   "execution_count": 6,
   "metadata": {},
   "outputs": [],
   "source": [
    "def get_name(url):\n",
    "    span = driver.find_elements_by_xpath('.//span[@id = \"productTitle\"]')\n",
    "    if not span:\n",
    "        start = url.find(\"amazon.com/\")+11\n",
    "        end = url.find(\"/\", start)\n",
    "        print('Test works')\n",
    "        return url[start:end]\n",
    "    return span[0].text"
   ]
  },
  {
   "cell_type": "code",
   "execution_count": 7,
   "metadata": {},
   "outputs": [],
   "source": [
    "def get_price():\n",
    "    span = driver.find_elements_by_xpath('.//span[@id = \"priceblock_ourprice\"]')\n",
    "    if not span:\n",
    "        return None\n",
    "    return float(span[0].text[1:].replace(',',''))"
   ]
  },
  {
   "cell_type": "code",
   "execution_count": 8,
   "metadata": {},
   "outputs": [],
   "source": [
    "def get_rating():\n",
    "    span = driver.find_elements_by_xpath('.//span[@class = \"reviewCountTextLinkedHistogram noUnderline\"]')\n",
    "    if not span:\n",
    "        return None\n",
    "    return float(span[0].get_attribute(\"title\").split()[0])"
   ]
  },
  {
   "cell_type": "code",
   "execution_count": 9,
   "metadata": {},
   "outputs": [
    {
     "name": "stdout",
     "output_type": "stream",
     "text": [
      "Length of Names: 201\n",
      "Length of Prices: 201\n",
      "Length of Ratings: 201\n"
     ]
    }
   ],
   "source": [
    "product_names = []\n",
    "product_prices = []\n",
    "product_ratings = []\n",
    "for link in product_links:\n",
    "    driver.get(link)\n",
    "    product_names.append(get_name(link))\n",
    "    product_prices.append(get_price())\n",
    "    product_ratings.append(get_rating())\n",
    "print(\"Length of Names:\", len(product_names))\n",
    "print(\"Length of Prices:\", len(product_prices))\n",
    "print(\"Length of Ratings:\", len(product_ratings))"
   ]
  },
  {
   "cell_type": "markdown",
   "metadata": {},
   "source": [
    "We store the information that we scraped into a pandas dataframe and then export the data as a csv, ready to be analyzed!"
   ]
  },
  {
   "cell_type": "code",
   "execution_count": 10,
   "metadata": {},
   "outputs": [],
   "source": [
    "import pandas as pd"
   ]
  },
  {
   "cell_type": "code",
   "execution_count": 11,
   "metadata": {},
   "outputs": [],
   "source": [
    "zippedList =  list(zip(product_names, product_prices, product_ratings, product_links))\n",
    "amazon_gpus = pd.DataFrame(zippedList, columns = ['Product Name' , 'Price', 'Rating (out of 5)', 'URL']) "
   ]
  },
  {
   "cell_type": "code",
   "execution_count": 12,
   "metadata": {},
   "outputs": [
    {
     "data": {
      "text/html": [
       "<div>\n",
       "<style scoped>\n",
       "    .dataframe tbody tr th:only-of-type {\n",
       "        vertical-align: middle;\n",
       "    }\n",
       "\n",
       "    .dataframe tbody tr th {\n",
       "        vertical-align: top;\n",
       "    }\n",
       "\n",
       "    .dataframe thead th {\n",
       "        text-align: right;\n",
       "    }\n",
       "</style>\n",
       "<table border=\"1\" class=\"dataframe\">\n",
       "  <thead>\n",
       "    <tr style=\"text-align: right;\">\n",
       "      <th></th>\n",
       "      <th>Product Name</th>\n",
       "      <th>Price</th>\n",
       "      <th>Rating (out of 5)</th>\n",
       "      <th>URL</th>\n",
       "    </tr>\n",
       "  </thead>\n",
       "  <tbody>\n",
       "    <tr>\n",
       "      <th>0</th>\n",
       "      <td>XFX AMD Radeon RX 580 GTS XXX Edition Graphics...</td>\n",
       "      <td>699.99</td>\n",
       "      <td>NaN</td>\n",
       "      <td>https://www.amazon.com/gp/slredirect/picassoRe...</td>\n",
       "    </tr>\n",
       "    <tr>\n",
       "      <th>1</th>\n",
       "      <td>ASUS Phoenix GeForce GTX 1650 OC Edition Graph...</td>\n",
       "      <td>369.99</td>\n",
       "      <td>NaN</td>\n",
       "      <td>https://www.amazon.com/gp/slredirect/picassoRe...</td>\n",
       "    </tr>\n",
       "    <tr>\n",
       "      <th>2</th>\n",
       "      <td>ASUS TUF Gaming NVIDIA GeForce RTX 3070 OC Edi...</td>\n",
       "      <td>1599.99</td>\n",
       "      <td>1.0</td>\n",
       "      <td>https://www.amazon.com/Gaming-GeForce-Graphics...</td>\n",
       "    </tr>\n",
       "    <tr>\n",
       "      <th>3</th>\n",
       "      <td>HHCJ6 Dell NVIDIA Tesla K80 24GB GDDR5 PCI-E 3...</td>\n",
       "      <td>199.00</td>\n",
       "      <td>3.9</td>\n",
       "      <td>https://www.amazon.com/Dell-Tesla-K80-Accelera...</td>\n",
       "    </tr>\n",
       "    <tr>\n",
       "      <th>4</th>\n",
       "      <td>Gigabyte Geforce GTX 1050 Ti OC 4GB GDDR5 128 ...</td>\n",
       "      <td>309.99</td>\n",
       "      <td>4.6</td>\n",
       "      <td>https://www.amazon.com/Gigabyte-Geforce-GDDR5-...</td>\n",
       "    </tr>\n",
       "    <tr>\n",
       "      <th>...</th>\n",
       "      <td>...</td>\n",
       "      <td>...</td>\n",
       "      <td>...</td>\n",
       "      <td>...</td>\n",
       "    </tr>\n",
       "    <tr>\n",
       "      <th>196</th>\n",
       "      <td>EVGA EPOWER V (100-UV-0600-BR)</td>\n",
       "      <td>149.99</td>\n",
       "      <td>5.0</td>\n",
       "      <td>https://www.amazon.com/EVGA-100-UV-0600-BR-EPO...</td>\n",
       "    </tr>\n",
       "    <tr>\n",
       "      <th>197</th>\n",
       "      <td>EVGA GeForce GT 1030 SC 2GB GDDR5 Single Slot ...</td>\n",
       "      <td>NaN</td>\n",
       "      <td>4.5</td>\n",
       "      <td>https://www.amazon.com/EVGA-GeForce-Single-Gra...</td>\n",
       "    </tr>\n",
       "    <tr>\n",
       "      <th>198</th>\n",
       "      <td>2 GB Graphics Video Card GPU Upgrade Replaceme...</td>\n",
       "      <td>185.98</td>\n",
       "      <td>5.0</td>\n",
       "      <td>https://www.amazon.com/Graphics-Replacement-Mi...</td>\n",
       "    </tr>\n",
       "    <tr>\n",
       "      <th>199</th>\n",
       "      <td>Bewinner1 Graphics Card GPU Brace Support Hold...</td>\n",
       "      <td>24.19</td>\n",
       "      <td>NaN</td>\n",
       "      <td>https://www.amazon.com/Bewinner1-Graphics-All-...</td>\n",
       "    </tr>\n",
       "    <tr>\n",
       "      <th>200</th>\n",
       "      <td>EVGA GT 710 2GB DDR3 64bit Single Slot, Low Pr...</td>\n",
       "      <td>NaN</td>\n",
       "      <td>4.5</td>\n",
       "      <td>https://www.amazon.com/EVGA-64bit-Single-Profi...</td>\n",
       "    </tr>\n",
       "  </tbody>\n",
       "</table>\n",
       "<p>201 rows × 4 columns</p>\n",
       "</div>"
      ],
      "text/plain": [
       "                                          Product Name    Price  \\\n",
       "0    XFX AMD Radeon RX 580 GTS XXX Edition Graphics...   699.99   \n",
       "1    ASUS Phoenix GeForce GTX 1650 OC Edition Graph...   369.99   \n",
       "2    ASUS TUF Gaming NVIDIA GeForce RTX 3070 OC Edi...  1599.99   \n",
       "3    HHCJ6 Dell NVIDIA Tesla K80 24GB GDDR5 PCI-E 3...   199.00   \n",
       "4    Gigabyte Geforce GTX 1050 Ti OC 4GB GDDR5 128 ...   309.99   \n",
       "..                                                 ...      ...   \n",
       "196                     EVGA EPOWER V (100-UV-0600-BR)   149.99   \n",
       "197  EVGA GeForce GT 1030 SC 2GB GDDR5 Single Slot ...      NaN   \n",
       "198  2 GB Graphics Video Card GPU Upgrade Replaceme...   185.98   \n",
       "199  Bewinner1 Graphics Card GPU Brace Support Hold...    24.19   \n",
       "200  EVGA GT 710 2GB DDR3 64bit Single Slot, Low Pr...      NaN   \n",
       "\n",
       "     Rating (out of 5)                                                URL  \n",
       "0                  NaN  https://www.amazon.com/gp/slredirect/picassoRe...  \n",
       "1                  NaN  https://www.amazon.com/gp/slredirect/picassoRe...  \n",
       "2                  1.0  https://www.amazon.com/Gaming-GeForce-Graphics...  \n",
       "3                  3.9  https://www.amazon.com/Dell-Tesla-K80-Accelera...  \n",
       "4                  4.6  https://www.amazon.com/Gigabyte-Geforce-GDDR5-...  \n",
       "..                 ...                                                ...  \n",
       "196                5.0  https://www.amazon.com/EVGA-100-UV-0600-BR-EPO...  \n",
       "197                4.5  https://www.amazon.com/EVGA-GeForce-Single-Gra...  \n",
       "198                5.0  https://www.amazon.com/Graphics-Replacement-Mi...  \n",
       "199                NaN  https://www.amazon.com/Bewinner1-Graphics-All-...  \n",
       "200                4.5  https://www.amazon.com/EVGA-64bit-Single-Profi...  \n",
       "\n",
       "[201 rows x 4 columns]"
      ]
     },
     "execution_count": 12,
     "metadata": {},
     "output_type": "execute_result"
    }
   ],
   "source": [
    "amazon_gpus"
   ]
  },
  {
   "cell_type": "code",
   "execution_count": 13,
   "metadata": {},
   "outputs": [],
   "source": [
    "amazon_gpus.to_csv(\"amazon_gpus.csv\")"
   ]
  },
  {
   "cell_type": "markdown",
   "metadata": {},
   "source": [
    "One limitation of our current program is that we are scraping some extraneous listings such as sponsored listings. We will have to filter these out either before scraping or in our final dataset."
   ]
  },
  {
   "cell_type": "code",
   "execution_count": null,
   "metadata": {},
   "outputs": [],
   "source": []
  }
 ],
 "metadata": {
  "kernelspec": {
   "display_name": "Python 3",
   "language": "python",
   "name": "python3"
  },
  "language_info": {
   "codemirror_mode": {
    "name": "ipython",
    "version": 3
   },
   "file_extension": ".py",
   "mimetype": "text/x-python",
   "name": "python",
   "nbconvert_exporter": "python",
   "pygments_lexer": "ipython3",
   "version": "3.9.1"
  }
 },
 "nbformat": 4,
 "nbformat_minor": 4
}
