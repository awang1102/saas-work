{
 "cells": [
  {
   "cell_type": "markdown",
   "metadata": {},
   "source": [
    "# Web scraping of Amazon products"
   ]
  },
  {
   "cell_type": "markdown",
   "metadata": {},
   "source": [
    "We use the Python library selenium for web crawling and scraping."
   ]
  },
  {
   "cell_type": "code",
   "execution_count": 1,
   "metadata": {},
   "outputs": [
    {
     "name": "stdout",
     "output_type": "stream",
     "text": [
      "Requirement already satisfied: selenium in /Users/ruicao/opt/miniconda3/lib/python3.7/site-packages (3.141.0)\r\n",
      "Requirement already satisfied: urllib3 in /Users/ruicao/opt/miniconda3/lib/python3.7/site-packages (from selenium) (1.25.8)\r\n"
     ]
    }
   ],
   "source": [
    "import sys\n",
    "!{sys.executable} -m pip install selenium"
   ]
  },
  {
   "cell_type": "code",
   "execution_count": 2,
   "metadata": {},
   "outputs": [],
   "source": [
    "from selenium import webdriver\n",
    "from PIL import Image\n",
    "import requests\n",
    "import urllib.request\n",
    "import os"
   ]
  },
  {
   "cell_type": "markdown",
   "metadata": {},
   "source": [
    "We initialize a new web driver and feed it the page that we want to start scraping from. In our case, we scrape the names, prices, and ratings of GPU listings from the first ten pages of Amazon."
   ]
  },
  {
   "cell_type": "code",
   "execution_count": 6,
   "metadata": {},
   "outputs": [],
   "source": [
    "driver = webdriver.Chrome(\"/Users/ruicao/Downloads/scrape_notebook/chromedriver\")\n",
    "driver.get(\"https://www.amazon.com/s?k=gpu\")"
   ]
  },
  {
   "cell_type": "markdown",
   "metadata": {},
   "source": [
    "![title](amazon-gpus.png)"
   ]
  },
  {
   "cell_type": "markdown",
   "metadata": {},
   "source": [
    "We find the links to each product page by looking for the class html tag with description \"a-link-normal a-text-normal\" and we store these links in a list. We do this for the first ten pages of GPU listings."
   ]
  },
  {
   "cell_type": "code",
   "execution_count": 7,
   "metadata": {},
   "outputs": [],
   "source": [
    "elems = driver.find_elements_by_xpath('.//a[@class = \"a-link-normal a-text-normal\"]')\n",
    "product_links = []\n",
    "for elem in elems:\n",
    "    product_links.append(elem.get_attribute(\"href\"))\n",
    "    \n",
    "next_url = driver.find_elements_by_xpath('.//li[@class = \"a-last\"]//a')[0].get_attribute(\"href\")\n",
    "for _ in range(9):\n",
    "    driver.get(next_url)\n",
    "    curr_elems = driver.find_elements_by_xpath('.//a[@class = \"a-link-normal a-text-normal\"]')\n",
    "    for curr_elem in curr_elems:\n",
    "        product_links.append(curr_elem.get_attribute(\"href\"))\n",
    "    next_url = driver.find_elements_by_xpath('.//li[@class = \"a-last\"]//a')[0].get_attribute(\"href\")"
   ]
  },
  {
   "cell_type": "markdown",
   "metadata": {},
   "source": [
    "For each product page, we get the name, price, and rating of the product. To do this, we look for span html tags with descriptions that allow us to uniquely identify each attribute. We write these functions and run them for each page that we stored in our initial list. Some of the data will return null values because selenium oftens runs too quickly on each page and will miss html tags when they are actually there. We set them as null for now, but running multiple iterations and corroborating the data would lead to a complete dataset."
   ]
  },
  {
   "cell_type": "code",
   "execution_count": 8,
   "metadata": {},
   "outputs": [],
   "source": [
    "def get_name(url):\n",
    "    span = driver.find_elements_by_xpath('.//span[@id = \"productTitle\"]')\n",
    "    if not span:\n",
    "        start = url.find(\"amazon.com/\")+11\n",
    "        end = url.find(\"/\", start)\n",
    "        print('Test works')\n",
    "        return url[start:end]\n",
    "    return span[0].text"
   ]
  },
  {
   "cell_type": "code",
   "execution_count": 9,
   "metadata": {},
   "outputs": [],
   "source": [
    "def get_price():\n",
    "    span = driver.find_elements_by_xpath('.//span[@id = \"priceblock_ourprice\"]')\n",
    "    if not span:\n",
    "        return None\n",
    "    return float(span[0].text[1:].replace(',',''))"
   ]
  },
  {
   "cell_type": "code",
   "execution_count": 10,
   "metadata": {},
   "outputs": [],
   "source": [
    "def get_rating():\n",
    "    span = driver.find_elements_by_xpath('.//span[@class = \"reviewCountTextLinkedHistogram noUnderline\"]')\n",
    "    if not span:\n",
    "        return None\n",
    "    return float(span[0].get_attribute(\"title\").split()[0])"
   ]
  },
  {
   "cell_type": "code",
   "execution_count": 11,
   "metadata": {},
   "outputs": [
    {
     "name": "stdout",
     "output_type": "stream",
     "text": [
      "Length of Names: 228\n",
      "Length of Prices: 228\n",
      "Length of Ratings: 228\n"
     ]
    }
   ],
   "source": [
    "product_names = []\n",
    "product_prices = []\n",
    "product_ratings = []\n",
    "for link in product_links:\n",
    "    driver.get(link)\n",
    "    product_names.append(get_name(link))\n",
    "    product_prices.append(get_price())\n",
    "    product_ratings.append(get_rating())\n",
    "print(\"Length of Names:\", len(product_names))\n",
    "print(\"Length of Prices:\", len(product_prices))\n",
    "print(\"Length of Ratings:\", len(product_ratings))"
   ]
  },
  {
   "cell_type": "markdown",
   "metadata": {},
   "source": [
    "We store the information that we scraped into a pandas dataframe and then export the data as a csv, ready to be analyzed!"
   ]
  },
  {
   "cell_type": "code",
   "execution_count": 12,
   "metadata": {},
   "outputs": [],
   "source": [
    "import pandas as pd"
   ]
  },
  {
   "cell_type": "code",
   "execution_count": 13,
   "metadata": {},
   "outputs": [],
   "source": [
    "zippedList =  list(zip(product_names, product_prices, product_ratings, product_links))\n",
    "amazon_gpus = pd.DataFrame(zippedList, columns = ['Product Name' , 'Price', 'Rating (out of 5)', 'URL']) "
   ]
  },
  {
   "cell_type": "code",
   "execution_count": 14,
   "metadata": {},
   "outputs": [
    {
     "data": {
      "text/html": [
       "<div>\n",
       "<style scoped>\n",
       "    .dataframe tbody tr th:only-of-type {\n",
       "        vertical-align: middle;\n",
       "    }\n",
       "\n",
       "    .dataframe tbody tr th {\n",
       "        vertical-align: top;\n",
       "    }\n",
       "\n",
       "    .dataframe thead th {\n",
       "        text-align: right;\n",
       "    }\n",
       "</style>\n",
       "<table border=\"1\" class=\"dataframe\">\n",
       "  <thead>\n",
       "    <tr style=\"text-align: right;\">\n",
       "      <th></th>\n",
       "      <th>Product Name</th>\n",
       "      <th>Price</th>\n",
       "      <th>Rating (out of 5)</th>\n",
       "      <th>URL</th>\n",
       "    </tr>\n",
       "  </thead>\n",
       "  <tbody>\n",
       "    <tr>\n",
       "      <th>0</th>\n",
       "      <td>MSI Gaming Radeon RX 5500 XT Boost Clock: 1845...</td>\n",
       "      <td>219.99</td>\n",
       "      <td>4.5</td>\n",
       "      <td>https://www.amazon.com/MSI-Gaming-RX-5500-XT/d...</td>\n",
       "    </tr>\n",
       "    <tr>\n",
       "      <th>1</th>\n",
       "      <td>XFX Radeon RX 580 GTS XXX Edition 1386MHz OC+,...</td>\n",
       "      <td>212.81</td>\n",
       "      <td>4.5</td>\n",
       "      <td>https://www.amazon.com/XFX-Radeon-1386MHz-Grap...</td>\n",
       "    </tr>\n",
       "    <tr>\n",
       "      <th>2</th>\n",
       "      <td>XFX RX 5600 XT THICC III PRO - 14GBPS 6GB GDDR...</td>\n",
       "      <td>321.14</td>\n",
       "      <td>4.5</td>\n",
       "      <td>https://www.amazon.com/XFX-5600-THICC-III-PRO/...</td>\n",
       "    </tr>\n",
       "    <tr>\n",
       "      <th>3</th>\n",
       "      <td>Gigabyte GV-N1030OC-2GI Nvidia GeForce GT 1030...</td>\n",
       "      <td>88.99</td>\n",
       "      <td>4.5</td>\n",
       "      <td>https://www.amazon.com/Gigabyte-GV-N1030OC-2GI...</td>\n",
       "    </tr>\n",
       "    <tr>\n",
       "      <th>4</th>\n",
       "      <td>PNY GeForce GT 1030 2GB Graphic Card (VCGGT103...</td>\n",
       "      <td>119.99</td>\n",
       "      <td>4.3</td>\n",
       "      <td>https://www.amazon.com/PNY-GeForce-1030-Graphi...</td>\n",
       "    </tr>\n",
       "    <tr>\n",
       "      <th>...</th>\n",
       "      <td>...</td>\n",
       "      <td>...</td>\n",
       "      <td>...</td>\n",
       "      <td>...</td>\n",
       "    </tr>\n",
       "    <tr>\n",
       "      <th>223</th>\n",
       "      <td>ASUS GeForce GTX 1070 8GB Turbo Edition 4K &amp; V...</td>\n",
       "      <td>NaN</td>\n",
       "      <td>4.3</td>\n",
       "      <td>https://www.amazon.com/ASUS-GeForce-Auto-Extre...</td>\n",
       "    </tr>\n",
       "    <tr>\n",
       "      <th>224</th>\n",
       "      <td>EVGA GeForce GTX 1080 Ti SC2 Gaming, 11GB GDDR...</td>\n",
       "      <td>NaN</td>\n",
       "      <td>4.7</td>\n",
       "      <td>https://www.amazon.com/EVGA-GeForce-Gaming-GDD...</td>\n",
       "    </tr>\n",
       "    <tr>\n",
       "      <th>225</th>\n",
       "      <td>EVGA GeForce GTX 1650 XC Ultra Gaming, 4GB GDD...</td>\n",
       "      <td>241.81</td>\n",
       "      <td>4.6</td>\n",
       "      <td>https://www.amazon.com/EVGA-GeForce-Ultra-Gami...</td>\n",
       "    </tr>\n",
       "    <tr>\n",
       "      <th>226</th>\n",
       "      <td>EZDIY-FAB New PCI Express PCIe3.0 16x Flexible...</td>\n",
       "      <td>23.98</td>\n",
       "      <td>4.2</td>\n",
       "      <td>https://www.amazon.com/gp/slredirect/picassoRe...</td>\n",
       "    </tr>\n",
       "    <tr>\n",
       "      <th>227</th>\n",
       "      <td>GENNEL 100g Tube Grey Silicone Compound Therma...</td>\n",
       "      <td>13.99</td>\n",
       "      <td>4.3</td>\n",
       "      <td>https://www.amazon.com/gp/slredirect/picassoRe...</td>\n",
       "    </tr>\n",
       "  </tbody>\n",
       "</table>\n",
       "<p>228 rows × 4 columns</p>\n",
       "</div>"
      ],
      "text/plain": [
       "                                          Product Name   Price  \\\n",
       "0    MSI Gaming Radeon RX 5500 XT Boost Clock: 1845...  219.99   \n",
       "1    XFX Radeon RX 580 GTS XXX Edition 1386MHz OC+,...  212.81   \n",
       "2    XFX RX 5600 XT THICC III PRO - 14GBPS 6GB GDDR...  321.14   \n",
       "3    Gigabyte GV-N1030OC-2GI Nvidia GeForce GT 1030...   88.99   \n",
       "4    PNY GeForce GT 1030 2GB Graphic Card (VCGGT103...  119.99   \n",
       "..                                                 ...     ...   \n",
       "223  ASUS GeForce GTX 1070 8GB Turbo Edition 4K & V...     NaN   \n",
       "224  EVGA GeForce GTX 1080 Ti SC2 Gaming, 11GB GDDR...     NaN   \n",
       "225  EVGA GeForce GTX 1650 XC Ultra Gaming, 4GB GDD...  241.81   \n",
       "226  EZDIY-FAB New PCI Express PCIe3.0 16x Flexible...   23.98   \n",
       "227  GENNEL 100g Tube Grey Silicone Compound Therma...   13.99   \n",
       "\n",
       "     Rating (out of 5)                                                URL  \n",
       "0                  4.5  https://www.amazon.com/MSI-Gaming-RX-5500-XT/d...  \n",
       "1                  4.5  https://www.amazon.com/XFX-Radeon-1386MHz-Grap...  \n",
       "2                  4.5  https://www.amazon.com/XFX-5600-THICC-III-PRO/...  \n",
       "3                  4.5  https://www.amazon.com/Gigabyte-GV-N1030OC-2GI...  \n",
       "4                  4.3  https://www.amazon.com/PNY-GeForce-1030-Graphi...  \n",
       "..                 ...                                                ...  \n",
       "223                4.3  https://www.amazon.com/ASUS-GeForce-Auto-Extre...  \n",
       "224                4.7  https://www.amazon.com/EVGA-GeForce-Gaming-GDD...  \n",
       "225                4.6  https://www.amazon.com/EVGA-GeForce-Ultra-Gami...  \n",
       "226                4.2  https://www.amazon.com/gp/slredirect/picassoRe...  \n",
       "227                4.3  https://www.amazon.com/gp/slredirect/picassoRe...  \n",
       "\n",
       "[228 rows x 4 columns]"
      ]
     },
     "execution_count": 14,
     "metadata": {},
     "output_type": "execute_result"
    }
   ],
   "source": [
    "amazon_gpus"
   ]
  },
  {
   "cell_type": "code",
   "execution_count": 15,
   "metadata": {},
   "outputs": [],
   "source": [
    "amazon_gpus.to_csv(\"amazon_gpus.csv\")"
   ]
  },
  {
   "cell_type": "markdown",
   "metadata": {},
   "source": [
    "One limitation of our current program is that we are scraping some extraneous listings such as sponsored listings. We will have to filter these out either before scraping or in our final dataset."
   ]
  },
  {
   "cell_type": "code",
   "execution_count": null,
   "metadata": {},
   "outputs": [],
   "source": []
  }
 ],
 "metadata": {
  "kernelspec": {
   "display_name": "Python 3",
   "language": "python",
   "name": "python3"
  },
  "language_info": {
   "codemirror_mode": {
    "name": "ipython",
    "version": 3
   },
   "file_extension": ".py",
   "mimetype": "text/x-python",
   "name": "python",
   "nbconvert_exporter": "python",
   "pygments_lexer": "ipython3",
   "version": "3.7.6"
  }
 },
 "nbformat": 4,
 "nbformat_minor": 4
}
